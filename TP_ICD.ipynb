{
  "nbformat": 4,
  "nbformat_minor": 0,
  "metadata": {
    "colab": {
      "provenance": [],
      "include_colab_link": true
    },
    "kernelspec": {
      "name": "python3",
      "display_name": "Python 3"
    },
    "language_info": {
      "name": "python"
    }
  },
  "cells": [
    {
      "cell_type": "markdown",
      "metadata": {
        "id": "view-in-github",
        "colab_type": "text"
      },
      "source": [
        "<a href=\"https://colab.research.google.com/github/barbaradinizabreu/ICD-UFMG/blob/main/TP_ICD.ipynb\" target=\"_parent\"><img src=\"https://colab.research.google.com/assets/colab-badge.svg\" alt=\"Open In Colab\"/></a>"
      ]
    },
    {
      "cell_type": "markdown",
      "source": [
        "# Entrega 2 - Introdução à Ciência de Dados"
      ],
      "metadata": {
        "id": "9uZhJc-0QYNB"
      }
    },
    {
      "cell_type": "markdown",
      "source": [
        "## Integrantes\n",
        "Bárbara Diniz Abreu - 2023001670  \n",
        "Beatriz Camilly Gulart Pereira - 2023087753  \n",
        "Caio Brega Có Silva - 2023070842  \n",
        "João Paulo Moura Furtado - 2023001891  \n"
      ],
      "metadata": {
        "id": "kQ4wVa08QeIM"
      }
    },
    {
      "cell_type": "markdown",
      "source": [
        "## Perguntas\n",
        "##### 1 - É possível prever o número de pessoas privadas de liberdade em um estado nos próximos anos a partir do histórico da população carcerária e da disponibilidade de vagas no sistema prisional?\n",
        "\n",
        "##### 2 - É possível relacionar a quantidade de óbitos naturais/por motivos de saúde com a qualidade da área médica das prisões?\n",
        "\n",
        "##### 3 - Existe uma correlação entre a oferta de serviços de assistência social nas unidades prisionais com o percentual de presos que trabalham e/ou estudam?\n",
        "\n",
        "##### 4 - Existe uma correlação entre os grupos de crime pelo qual os detentos foram condenados e a incidência de óbitos prisionais de natureza criminal?"
      ],
      "metadata": {
        "id": "Wu_5MpFFpzoX"
      }
    },
    {
      "cell_type": "markdown",
      "source": [
        "##Banco de dados"
      ],
      "metadata": {
        "id": "5cxu0QhBqeus"
      }
    },
    {
      "cell_type": "markdown",
      "source": [
        "O conjunto de dados utilizado neste trabalho é o **Levantamento Nacional de Informações Penitenciárias**, disponibilizado pela **Secretaria Nacional de Políticas Penais (SENAPPEN)**.\n",
        "\n",
        "**Disponível em:** [SENAPPEN - Bases de Dados](https://www.gov.br/senappen/pt-br/servicos/sisdepen/bases-de-dados)\n"
      ],
      "metadata": {
        "id": "hrQbujxHnMzy"
      }
    },
    {
      "cell_type": "markdown",
      "source": [
        "### Importação dos dados e bibliotecas"
      ],
      "metadata": {
        "id": "BTf3MAeH6DGf"
      }
    },
    {
      "cell_type": "code",
      "source": [
        "import pandas as pd\n",
        "import numpy as np\n",
        "import seaborn as sns\n",
        "import matplotlib.pyplot as plt\n",
        "import plotly\n",
        "import scipy.stats as stats\n",
        "from scipy.stats import ttest_rel\n",
        "from scipy.stats import spearmanr\n",
        "\n",
        "!gdown --folder https://drive.google.com/drive/folders/1lJmdpSd02WE6FaUpB8_lGBqRqEElGvaQ?usp=sharing --output .\n",
        "\n",
        "dados = pd.read_csv('/content/sisdepen_1_17_csv.csv', encoding='utf-8', sep=';')"
      ],
      "metadata": {
        "colab": {
          "base_uri": "https://localhost:8080/"
        },
        "id": "IiAUZ3d94TGN",
        "outputId": "deab0624-4bff-4fe6-a4fe-bf2c9afbc2c4",
        "collapsed": true
      },
      "execution_count": null,
      "outputs": [
        {
          "output_type": "stream",
          "name": "stdout",
          "text": [
            "Retrieving folder contents\n",
            "Processing file 1lwLd-VJJgsRyRuNEviTRyiSYN4uPwAMi sisdepen_1_17_csv.csv\n",
            "Retrieving folder contents completed\n",
            "Building directory structure\n",
            "Building directory structure completed\n",
            "Downloading...\n",
            "From (original): https://drive.google.com/uc?id=1lwLd-VJJgsRyRuNEviTRyiSYN4uPwAMi\n",
            "From (redirected): https://drive.google.com/uc?id=1lwLd-VJJgsRyRuNEviTRyiSYN4uPwAMi&confirm=t&uuid=f30af51b-e152-4bfd-8033-cb3232045e03\n",
            "To: /content/sisdepen_1_17_csv.csv\n",
            "100% 125M/125M [00:00<00:00, 139MB/s]\n",
            "Download completed\n"
          ]
        }
      ]
    },
    {
      "cell_type": "markdown",
      "source": [
        "### Limpeza dos Dados"
      ],
      "metadata": {
        "id": "rkTjUDNHUSXX"
      }
    },
    {
      "cell_type": "markdown",
      "source": [
        "O banco de dados possuía, inicialmente, 1782 colunas com informações sobre presídios de todo o Brasil.\n",
        "\n",
        "Selecionando as colunas 'Situação de Preenchimento' e 'Situação do Estabelecimento' percebemos uma uniformidade. Dentre as respostas possíveis, todas foram 'validado' e 'ativo', respectivamente. Isso significa que as informações recolhidas via questionário por formulário foram preenchidas em totalidade e que todos os presídios registrados estão em operação.\n",
        "\n",
        "Pensando nessa uniformidade, removemos essas colunas visto que elas não acrescentam informações relevantes que permitam a distinção entre os dados.\n"
      ],
      "metadata": {
        "id": "ePdYjvNvnoWq"
      }
    },
    {
      "cell_type": "code",
      "source": [
        "def existe_uniformidade(dados, coluna, resposta_padrao):\n",
        "    return (dados[coluna] == resposta_padrao).all()\n",
        "\n",
        "print(existe_uniformidade(dados, 'Situação de Preenchimento', 'Validado'))\n",
        "print(existe_uniformidade(dados, 'Situação do Estabelecimento', 'Ativo'))"
      ],
      "metadata": {
        "id": "IUTWXuMQPw5G"
      },
      "execution_count": null,
      "outputs": []
    },
    {
      "cell_type": "markdown",
      "source": [
        "As demais colunas retiradas foram removidas por não serem interessantes para a realização do nosso trabalho prático."
      ],
      "metadata": {
        "id": "QgoAf6myP4TU"
      }
    },
    {
      "cell_type": "code",
      "source": [
        "# Prefixos gerais para remoção\n",
        "prefixos = [\n",
        "    'Situação de Preenchimento',\n",
        "    'Situação do Estabelecimento',\n",
        "    'Outras Denominações',\n",
        "    'Âmbito',\n",
        "    'Município',\n",
        "    'Endereço',\n",
        "    'Bairro',\n",
        "    'CEP',\n",
        "    'Código IBGE',\n",
        "    'Telefone Principal',\n",
        "    '1.4 Gestão do estabelecimento',\n",
        "    '1.5 Quais serviços são terceirizados?',\n",
        "    '5.2 Quantidade de pessoas privadas de liberdade por cor de pele/raça/etnia',\n",
        "    '5.3 Quantidade de pessoas privadas de liberdade por procedência',\n",
        "    '5.4 Estado civil',\n",
        "    '5.5 Pessoas com deficiência',\n",
        "    '5.6 Quantidade de pessoas privadas de liberdade por grau de instrução',\n",
        "    '5.7 Número de pessoas privadas de liberdade com documentos pessoais',\n",
        "    '5.8 Quantidade de pessoas privadas de liberdade por nacionalidade',\n",
        "    '5.9 Faixa etária dos filhos que estão no estabelecimento (aplicável apenas para estabelecimentos com mulheres)',\n",
        "    '5.10 Número de filhos/as',\n",
        "    '5.11 Número de pessoas privadas de liberdade que possuem visitantes cadastrados',\n",
        "    '5.14 Quantidade de incidências por tipo penal | Número de pessoas privadas de liberdade com informação sobre tipificação criminal',\n",
        "    '5.14 Quantidade de incidências por tipo penal | Número de pessoas privadas de liberdade sem informação sobre tipificação criminal',\n",
        "    '7.3 Quantidade de visitas registradas no período de referência',\n",
        "    '7.4. Total de apreensões no período de referência',\n",
        "    '7.5 Foi realizada visita(s) de inspeção no período de referência?'\n",
        "]\n",
        "\n",
        "# Colunas específicas a serem removidas\n",
        "colunas_especificas = [\n",
        "    '1.1 Estabelecimento originalmente destinado a pessoa privadas de liberdade do sexo',\n",
        "    '1.2 Tipo de estabelecimento - originalmente destinado',\n",
        "    '1.8 Possui regimento interno?',\n",
        "    '1.9 O regimento interno é específico para este estabelecimento ou se aplica aos demais estabelecimentos do Estado?',\n",
        "    '1.6 Data de inauguração do estabelecimento',\n",
        "    '1.7 O estabelecimento foi concebido como estabelecimento penal ou foi construído para outra utilização e foi adaptado?',\n",
        "    '5.14 Quantidade de incidências por tipo penal | Masculino',\n",
        "    '5.14 Quantidade de incidências por tipo penal | Feminino'\n",
        "]\n",
        "\n",
        "colunas_por_prefixo = [\n",
        "    col for col in dados.columns\n",
        "    if any(col.startswith(pref) for pref in prefixos)\n",
        "]\n",
        "\n",
        "colunas_para_remover = colunas_por_prefixo + colunas_especificas\n",
        "dados_filtrados = dados.drop(columns=colunas_para_remover)\n",
        "\n",
        "# Substitui espaços vazios por 'NaN'\n",
        "dados_filtrados = dados_filtrados.replace(r'^\\s*$', np.nan, regex=True)# Prefixos gerais para remoção\n",
        "prefixos = [\n",
        "    'Situação de Preenchimento',\n",
        "    'Situação do Estabelecimento',\n",
        "    'Outras Denominações',\n",
        "    'Âmbito',\n",
        "    'Município',\n",
        "    'Endereço',\n",
        "    'Bairro',\n",
        "    'CEP',\n",
        "    'Código IBGE',\n",
        "    'Telefone Principal',\n",
        "    '1.4 Gestão do estabelecimento',\n",
        "    '1.5 Quais serviços são terceirizados?',\n",
        "    '5.2 Quantidade de pessoas privadas de liberdade por cor de pele/raça/etnia',\n",
        "    '5.3 Quantidade de pessoas privadas de liberdade por procedência',\n",
        "    '5.4 Estado civil',\n",
        "    '5.5 Pessoas com deficiência',\n",
        "    '5.6 Quantidade de pessoas privadas de liberdade por grau de instrução',\n",
        "    '5.7 Número de pessoas privadas de liberdade com documentos pessoais',\n",
        "    '5.8 Quantidade de pessoas privadas de liberdade por nacionalidade',\n",
        "    '5.9 Faixa etária dos filhos que estão no estabelecimento (aplicável apenas para estabelecimentos com mulheres)',\n",
        "    '5.10 Número de filhos/as',\n",
        "    '5.11 Número de pessoas privadas de liberdade que possuem visitantes cadastrados',\n",
        "    '5.14 Quantidade de incidências por tipo penal | Número de pessoas privadas de liberdade com informação sobre tipificação criminal',\n",
        "    '5.14 Quantidade de incidências por tipo penal | Número de pessoas privadas de liberdade sem informação sobre tipificação criminal',\n",
        "    '7.3 Quantidade de visitas registradas no período de referência',\n",
        "    '7.4. Total de apreensões no período de referência',\n",
        "    '7.5 Foi realizada visita(s) de inspeção no período de referência?'\n",
        "]\n",
        "\n",
        "# Colunas específicas a serem removidas\n",
        "colunas_especificas = [\n",
        "    '1.1 Estabelecimento originalmente destinado a pessoa privadas de liberdade do sexo',\n",
        "    '1.2 Tipo de estabelecimento - originalmente destinado',\n",
        "    '1.8 Possui regimento interno?',\n",
        "    '1.9 O regimento interno é específico para este estabelecimento ou se aplica aos demais estabelecimentos do Estado?',\n",
        "    '1.6 Data de inauguração do estabelecimento',\n",
        "    '1.7 O estabelecimento foi concebido como estabelecimento penal ou foi construído para outra utilização e foi adaptado?',\n",
        "    '5.14 Quantidade de incidências por tipo penal | Masculino',\n",
        "    '5.14 Quantidade de incidências por tipo penal | Feminino'\n",
        "]\n",
        "\n",
        "colunas_por_prefixo = [\n",
        "    col for col in dados.columns\n",
        "    if any(col.startswith(pref) for pref in prefixos)\n",
        "]\n",
        "\n",
        "colunas_para_remover = colunas_por_prefixo + colunas_especificas\n",
        "dados_filtrados = dados.drop(columns=colunas_para_remover)\n",
        "\n",
        "# Substitui espaços vazios por 'NaN'\n",
        "dados_filtrados = dados_filtrados.replace(r'^\\s*$', np.nan, regex=True)"
      ],
      "metadata": {
        "id": "deEkKuFfAMPe"
      },
      "execution_count": null,
      "outputs": []
    },
    {
      "cell_type": "code",
      "source": [
        "'''colunas restantes\n",
        "\n",
        "for col in dados_filtrados.columns:\n",
        "    print(f\"'{col}'\")'''"
      ],
      "metadata": {
        "id": "Jt330bHlDUBD",
        "collapsed": true
      },
      "execution_count": null,
      "outputs": []
    },
    {
      "cell_type": "markdown",
      "source": [
        "## Pergunta 1\n",
        "\n",
        "**É possível prever o número de pessoas privadas de liberdade em um estado nos próximos anos a partir do histórico da população carcerária e da disponibilidade de vagas no sistema prisional?**\n"
      ],
      "metadata": {
        "id": "yYW6cbubWRk8"
      }
    },
    {
      "cell_type": "markdown",
      "source": [
        "Para essa análise serão investigadas a evolução temporal da população carcerária por estado e a relação entre capacidade total de vagas e número total de presos"
      ],
      "metadata": {
        "id": "GnOsYPdUylJu"
      }
    },
    {
      "cell_type": "code",
      "source": [
        "colunas_usadas = [\n",
        "    'Ano', 'UF',\n",
        "    '1.3 Capacidade do estabelecimento | Presos provisórios | Total',\n",
        "    '1.3 Capacidade do estabelecimento | Regime fechado | Total',\n",
        "    '1.3 Capacidade do estabelecimento | Regime semiaberto | Total',\n",
        "    '1.3 Capacidade do estabelecimento | Regime aberto | Total',\n",
        "    '1.3 Capacidade do estabelecimento | Regime Disciplinar Diferenciado (RDD) | Total',\n",
        "    '1.3 Capacidade do estabelecimento | Medidas de segurança de internação | Total',\n",
        "    '1.3 Capacidade do estabelecimento | Outro(s). Qual(is)? | Total',\n",
        "    '1.3 Capacidade do estabelecimento | Masculino | Total',\n",
        "    '1.3 Capacidade do estabelecimento | Feminino | Total',\n",
        "    '5.1 Quantidade de pessoas privadas de liberdade por faixa etária | 18 a 24 anos | Total',\n",
        "    '5.1 Quantidade de pessoas privadas de liberdade por faixa etária | 25 a 29 anos | Total',\n",
        "    '5.1 Quantidade de pessoas privadas de liberdade por faixa etária | 30 a 34 anos | Total',\n",
        "    '5.1 Quantidade de pessoas privadas de liberdade por faixa etária | 35 a 45 anos | Total',\n",
        "    '5.1 Quantidade de pessoas privadas de liberdade por faixa etária | 46 a 60 anos | Total',\n",
        "    '5.1 Quantidade de pessoas privadas de liberdade por faixa etária | 61 a 70 anos | Total',\n",
        "    '5.1 Quantidade de pessoas privadas de liberdade por faixa etária | Mais de 70 anos | Total',\n",
        "    '5.1 Quantidade de pessoas privadas de liberdade por faixa etária | Não informado | Total',\n",
        "    '5.1 Quantidade de pessoas privadas de liberdade por faixa etária | Total'\n",
        "]\n",
        "\n",
        "dados_filtrados1 = dados_filtrados[colunas_usadas]\n",
        "# Remove as linhas com todos os valores ausentes\n",
        "dados_filtrados1 = dados_filtrados1.dropna(how='all')\n",
        "\n",
        "for col in colunas_usadas[2:]:\n",
        "    dados_filtrados1[col] = pd.to_numeric(dados_filtrados1[col], errors='coerce')\n",
        "\n",
        "# Agrupa por ano e UF e soma os dados\n",
        "df_uf_ano = dados_filtrados1.groupby(['Ano', 'UF']).sum().reset_index()\n",
        "df_uf_ano.head(27)\n"
      ],
      "metadata": {
        "id": "ToqWwCl3rWFC",
        "collapsed": true
      },
      "execution_count": null,
      "outputs": []
    },
    {
      "cell_type": "markdown",
      "source": [
        "**Gráficos para ilustrar o efeito das váriaveis independentes**\n",
        "\n"
      ],
      "metadata": {
        "id": "YCYmXaN_sESx"
      }
    },
    {
      "cell_type": "code",
      "source": [
        "import matplotlib.ticker as ticker\n",
        "df_brasil_ano = dados_filtrados1.groupby('Ano').sum(numeric_only=True).reset_index()\n",
        "\n",
        "#População carcerária total por ano\n",
        "plt.figure(figsize=(12, 5))\n",
        "sns.lineplot(\n",
        "    data=df_brasil_ano,\n",
        "    x='Ano',\n",
        "    y='5.1 Quantidade de pessoas privadas de liberdade por faixa etária | Total',\n",
        "    ci=None\n",
        ")\n",
        "plt.title('Evolução da População Carcerária no Brasil (2016–2024)')\n",
        "plt.xlabel('Ano')\n",
        "plt.ylabel('Pessoas Privadas de Liberdade')\n",
        "plt.tight_layout()\n",
        "plt.gca().yaxis.set_major_formatter(ticker.FuncFormatter(lambda x, _: f'{int(x):,}'.replace(\",\", \".\")))\n",
        "plt.show()"
      ],
      "metadata": {
        "id": "1wD2yMahuVA1",
        "collapsed": true
      },
      "execution_count": null,
      "outputs": []
    },
    {
      "cell_type": "code",
      "source": [
        "dados_filtrados1['Capacidade Total'] = (\n",
        "    dados_filtrados1['1.3 Capacidade do estabelecimento | Masculino | Total'] +\n",
        "    dados_filtrados1['1.3 Capacidade do estabelecimento | Feminino | Total']\n",
        ")\n",
        "\n",
        "df_brasil_ano = dados_filtrados1.groupby('Ano').sum(numeric_only=True).reset_index()\n",
        "\n",
        "plt.figure(figsize=(12, 5))\n",
        "sns.lineplot(\n",
        "    data=df_brasil_ano,\n",
        "    x='Ano',\n",
        "    y='Capacidade Total',\n",
        "    ci=None,\n",
        "    label='Capacidade Total'\n",
        ")\n",
        "sns.lineplot(\n",
        "    data=df_brasil_ano,\n",
        "    x='Ano',\n",
        "    y='5.1 Quantidade de pessoas privadas de liberdade por faixa etária | Total',\n",
        "    ci=None,\n",
        "    label='População Carcerária'\n",
        ")\n",
        "plt.title('Comparação: Capacidade do Sistema x População Carcerária (2016–2024)')\n",
        "plt.xlabel('Ano')\n",
        "plt.ylabel('Quantidade')\n",
        "\n",
        "plt.gca().yaxis.set_major_formatter(ticker.FuncFormatter(lambda x, _: f'{int(x):,}'.replace(\",\", \".\")))\n",
        "\n",
        "plt.legend()\n",
        "plt.tight_layout()\n",
        "plt.show()"
      ],
      "metadata": {
        "id": "QPFASYU7vZRP"
      },
      "execution_count": null,
      "outputs": []
    },
    {
      "cell_type": "markdown",
      "source": [
        "**Gráfico para ilustrar o aumento das capacidades carcerárias nos diferentes tipos de regime**"
      ],
      "metadata": {
        "id": "USnQP8X3mIEh"
      }
    },
    {
      "cell_type": "code",
      "source": [
        "regimes = [\n",
        "    '1.3 Capacidade do estabelecimento | Presos provisórios | Total',\n",
        "    '1.3 Capacidade do estabelecimento | Regime fechado | Total',\n",
        "    '1.3 Capacidade do estabelecimento | Regime semiaberto | Total',\n",
        "    '1.3 Capacidade do estabelecimento | Regime aberto | Total',\n",
        "]\n",
        "\n",
        "plt.figure(figsize=(12, 5))\n",
        "for regime in regimes:\n",
        "    sns.lineplot(\n",
        "        data=df_brasil_ano,\n",
        "        x='Ano',\n",
        "        y=regime,\n",
        "        label=regime.split('|')[1].strip()\n",
        "    )\n",
        "\n",
        "plt.title('Evolução da Capacidade Carcerária por Regime (2016–2024)')\n",
        "plt.xlabel('Ano')\n",
        "plt.ylabel('Capacidade')\n",
        "plt.gca().yaxis.set_major_formatter(ticker.FuncFormatter(lambda x, _: f'{int(x):,}'.replace(\",\", \".\")))\n",
        "plt.legend()\n",
        "plt.tight_layout()\n",
        "plt.show()"
      ],
      "metadata": {
        "id": "YtIeb-u4mO8x"
      },
      "execution_count": null,
      "outputs": []
    },
    {
      "cell_type": "markdown",
      "source": [
        "**Regressão para prever a população carcerária total**"
      ],
      "metadata": {
        "id": "2HhFdBoMoYwv"
      }
    },
    {
      "cell_type": "markdown",
      "source": [
        "**Testes de hipóteses**"
      ],
      "metadata": {
        "id": "rD9cuJ3Wx5n4"
      }
    },
    {
      "cell_type": "markdown",
      "source": [
        "Hipótese para investigar\n",
        "Será que a capacidade dos presídios tem um efeito estatisticamente significativo na quantidade de presos ao longo do tempo?\n",
        "\n",
        "Hipótese Nula\n",
        "H0: Não há correlação significativa entre a capacidade disponível e o número de presos.\n",
        "\n",
        "H1: Há correlação significativa entre a capacidade disponível e o número de presos."
      ],
      "metadata": {
        "id": "UdtSzUDZWHnv"
      }
    },
    {
      "cell_type": "code",
      "source": [
        "from scipy.stats import pearsonr\n",
        "\n",
        "populacao = df_brasil_ano['5.1 Quantidade de pessoas privadas de liberdade por faixa etária | Total']\n",
        "capacidade = df_brasil_ano['Capacidade Total']\n",
        "\n",
        "mask = ~populacao.isna() & ~capacidade.isna()\n",
        "corr, p_val = pearsonr(capacidade[mask], populacao[mask])\n",
        "\n",
        "print(\"\\n=== Correlação de Pearson ===\")\n",
        "print(\"Coeficiente de correlação de Pearson:\", round(corr, 4))\n",
        "print(\"Valor-p:\", p_val)\n",
        "\n",
        "if p_val < 0.05:\n",
        "    print(\"Rejeitamos H0: há correlação significativa entre capacidade e população carcerária.\")\n",
        "else:\n",
        "    print(\"Não rejeitamos H0: não há evidência de correlação significativa.\")"
      ],
      "metadata": {
        "collapsed": true,
        "id": "jlFaiERzx0Yc"
      },
      "execution_count": null,
      "outputs": []
    },
    {
      "cell_type": "code",
      "source": [
        "def intervalo_confianca(dados, nivel=0.95):\n",
        "    n = len(dados)\n",
        "    media = np.mean(dados)\n",
        "    erro = stats.sem(dados)\n",
        "    margem = erro * stats.t.ppf((1 + nivel) / 2., n-1)\n",
        "    return media - margem, media + margem\n",
        "\n",
        "ic_pop = intervalo_confianca(populacao[mask])\n",
        "ic_cap = intervalo_confianca(capacidade[mask])\n",
        "\n",
        "print(f\"Intervalo de confiança (95%) para a média da população carcerária: {ic_pop}\")\n",
        "print(f\"Intervalo de confiança (95%) para a média da capacidade do sistema: {ic_cap}\")"
      ],
      "metadata": {
        "id": "zQjEJKE5x-7_"
      },
      "execution_count": null,
      "outputs": []
    },
    {
      "cell_type": "markdown",
      "source": [
        "A hipótese nula (H₀) formulada foi a de que não existe correlação significativa entre a capacidade disponível do sistema prisional e o número de presos, enquanto a hipótese alternativa (H₁) assumia que há correlação significativa entre essas duas variáveis.\n",
        "\n",
        "O teste resultou em um coeficiente de correlação de Pearson igual a 0.9798, com um valor-p extremamente baixo (≈ 1.51 × 10e-170), o que permite rejeitar H₀ com alto grau de confiança, dado que o valor-p está muito abaixo do nível de significância adotado (α = 0,05). Isso indica uma forte correlação positiva entre a capacidade do sistema e a população carcerária, sugerindo que a variação na capacidade do sistema prisional está associada, de maneira estatisticamente significativa, à variação no número de presos ao longo dos anos.\n",
        "\n",
        "É importante ressaltar, no entanto, que correlação não implica causalidade. Embora os dados apontem uma forte associação entre a capacidade dos presídios e o número de presos, essa relação pode estar sendo mediada por outras variáveis contextuais, como políticas de encarceramento, variações na taxa de criminalidade ou decisões judiciais."
      ],
      "metadata": {
        "id": "nlK9SilI0Q28"
      }
    },
    {
      "cell_type": "markdown",
      "source": [
        "## Pergunta 2\n",
        "\n",
        "**É possível relacionar a quantidade de óbitos naturais/por motivos de saúde com a qualidade da área médica das prisões?**"
      ],
      "metadata": {
        "id": "qTGqtF_0WSdB"
      }
    },
    {
      "cell_type": "markdown",
      "source": [
        "- Limpeza e estruturação dos dados  \n"
      ],
      "metadata": {
        "id": "ow08q831-1bq"
      }
    },
    {
      "cell_type": "markdown",
      "source": [
        "Primeiramente, a colunas de população prisional total foi transformada em numérica. A seguir, foi feita as montagems do grupo de colunas que diz respeito a estrutura hospitalar e do grupo de colunas da quantidade dos profissionais da área médica e de enfermagem presentes. Depois disso, foi calculado um \"score\" para cada prisão fazendo a soma total das estruturas e profissionais presentes dividido pelo número de presos. Por fim, foi feito a transformação da coluna de óbitos por motivos de saúde/naturais em numérica."
      ],
      "metadata": {
        "id": "nbnQTVC9-2jm"
      }
    },
    {
      "cell_type": "code",
      "source": [
        "dfp2 = dados.copy()\n",
        "dfp2.columns = dfp2.columns.str.strip()\n",
        "\n",
        "dfp2['populacao_total'] = pd.to_numeric(dfp2['4.1 População prisional | Total'], errors='coerce')\n",
        "\n",
        "#Montagem da coluna de estrutura hospitalar\n",
        "colunas_estrutura = [col for col in dfp2.columns if col.startswith('2.4')]\n",
        "dfp2[colunas_estrutura] = dfp2[colunas_estrutura].replace({'Sim': 1, 'Não': 0})\n",
        "dfp2[colunas_estrutura] = dfp2[colunas_estrutura].apply(pd.to_numeric, errors='coerce')\n",
        "\n",
        "dfp2['total_estrutura_saude'] = dfp2[colunas_estrutura].sum(axis=1)\n",
        "\n",
        "#Montagem da coluna de profissionais da saúde\n",
        "profissionais_prefixos = [\n",
        "    '3.1 Quantidade de Servidores que atuam no Sistema Prisional | Médicos - clínicos gerais',\n",
        "    '3.1 Quantidade de Servidores que atuam no Sistema Prisional | Médicos - ginecologistas',\n",
        "    '3.1 Quantidade de Servidores que atuam no Sistema Prisional | Médicos - psiquiatras',\n",
        "    '3.1 Quantidade de Servidores que atuam no Sistema Prisional | Médicos - outras especialidades',\n",
        "    '3.1 Quantidade de Servidores que atuam no Sistema Prisional | Auxiliar e técnico de enfermagem',\n",
        "    '3.1 Quantidade de Servidores que atuam no Sistema Prisional | Enfermeiros'\n",
        "]\n",
        "\n",
        "colunas_profissionais = [col for col in dfp2.columns if any(prof in col for prof in profissionais_prefixos)]\n",
        "dfp2[colunas_profissionais] = dfp2[colunas_profissionais].apply(pd.to_numeric, errors='coerce')\n",
        "\n",
        "#Cálculo do score de qualidade em saúde\n",
        "dfp2['total_profissionais_saude'] = dfp2[colunas_profissionais].sum(axis=1)\n",
        "dfp2['score_qualidade_saude'] = (dfp2['total_estrutura_saude'] + dfp2['total_profissionais_saude']) / (dfp2['4.1 População prisional | Total'])\n",
        "\n",
        "dfp2['obitos_doenca'] = pd.to_numeric(dfp2['6.8 Mortalidade no Sistema Prisional (total do período) | Óbitos naturais/ óbitos por motivos de saúde | Total'], errors='coerce')\n",
        "dfp2 = dfp2.dropna(subset=['score_qualidade_saude', 'obitos_doenca'])"
      ],
      "metadata": {
        "id": "VS8lPlWu_xY8",
        "collapsed": true
      },
      "execution_count": null,
      "outputs": []
    },
    {
      "cell_type": "markdown",
      "source": [
        "- Cálculo da correlação utilizando spearman"
      ],
      "metadata": {
        "id": "qRJBQz5hAbMQ"
      }
    },
    {
      "cell_type": "code",
      "source": [
        "cor, p_valor = spearmanr(dfp2['score_qualidade_saude'], dfp2['obitos_doenca'])\n",
        "print(\"Correlação (Spearman):\", cor)\n",
        "print(\"Valor-p:\", p_valor)"
      ],
      "metadata": {
        "id": "Rq_wNlcMAwji"
      },
      "execution_count": null,
      "outputs": []
    },
    {
      "cell_type": "markdown",
      "source": [
        "- Gráficos para demonstração"
      ],
      "metadata": {
        "id": "FfKBR30pq2RU"
      }
    },
    {
      "cell_type": "markdown",
      "source": [
        "Dispersão"
      ],
      "metadata": {
        "id": "Ix-Y8Mx-2ioJ"
      }
    },
    {
      "cell_type": "code",
      "source": [
        "dfp2_plot = dfp2.copy()\n",
        "dfp2_plot['score_qualidade_saude'] = np.log10(dfp2['score_qualidade_saude'] + 1)\n",
        "\n",
        "sns.regplot(\n",
        "    x='score_qualidade_saude',\n",
        "    y='obitos_doenca',\n",
        "    data=dfp2_plot,\n",
        "    scatter_kws={'alpha': 0.5},\n",
        "    line_kws={'color': 'green'}\n",
        ")\n",
        "\n",
        "plt.xlabel('Score de qualidade da saúde')\n",
        "plt.ylabel('Óbitos naturais / por doença')\n",
        "plt.title('Relação entre qualidade da saúde (log) e óbitos')\n",
        "plt.grid(True)\n",
        "plt.tight_layout()\n",
        "plt.show()"
      ],
      "metadata": {
        "collapsed": true,
        "id": "3vO6oTFeq5WE"
      },
      "execution_count": null,
      "outputs": []
    },
    {
      "cell_type": "markdown",
      "source": [
        "Boxplot comparando Scores de qualidade hospitalar"
      ],
      "metadata": {
        "id": "DObYcg6d2UON"
      }
    },
    {
      "cell_type": "code",
      "source": [
        "mediana = dfp2_plot['score_qualidade_saude'].median()\n",
        "dfp2['Grupo Qualidade'] = ['Baixa' if x <= mediana else 'Alta' for x in dfp2_plot['score_qualidade_saude']]\n",
        "\n",
        "plt.figure(figsize=(7, 6))\n",
        "sns.boxplot(x='Grupo Qualidade', y='obitos_doenca', data=dfp2, palette='Set2')\n",
        "plt.title('Distribuição de óbitos por grupo de qualidade da saúde')\n",
        "plt.xlabel('Grupo de Qualidade da Saúde')\n",
        "plt.ylabel('Óbitos naturais / por doença')\n",
        "plt.grid(True)\n",
        "plt.show()"
      ],
      "metadata": {
        "collapsed": true,
        "id": "1D5djf6-2TuO"
      },
      "execution_count": null,
      "outputs": []
    },
    {
      "cell_type": "markdown",
      "source": [
        "**Testes de hipóteses**"
      ],
      "metadata": {
        "id": "dOMZw1xYyxm-"
      }
    },
    {
      "cell_type": "markdown",
      "source": [
        "Hipóteses:\n",
        "H0 (Hipótese nula): Não há diferença significativa entre a média de óbitos em prisões com baixa e alta qualidade médica.\n",
        "\n",
        "H1 (Hipótese alternativa): Há diferença significativa entre as médias de óbitos em prisões com baixa e alta qualidade médica."
      ],
      "metadata": {
        "id": "kkqyYGnnywbS"
      }
    },
    {
      "cell_type": "code",
      "source": [
        "dfp2_test = dfp2.dropna(subset=['score_qualidade_saude', 'obitos_doenca']).copy()\n",
        "\n",
        "# Dividir grupos por mediana do índice\n",
        "mediana = dfp2_test['score_qualidade_saude'].median()\n",
        "grupo_baixo = dfp2_test[dfp2_test['score_qualidade_saude'] <= mediana]['obitos_doenca']\n",
        "grupo_alto = dfp2_test[dfp2_test['score_qualidade_saude'] > mediana]['obitos_doenca']\n",
        "\n",
        "# Teste t de duas amostras independentes (amostras não pareadas)\n",
        "t_stat, p_val = stats.ttest_ind(grupo_baixo, grupo_alto, equal_var=False)\n",
        "\n",
        "print(\"Estatística do teste t:\", t_stat)\n",
        "print(\"Valor-p:\", p_val)\n",
        "\n",
        "if p_val < 0.05:\n",
        "    print(\"Rejeitamos a hipótese nula: há diferença significativa nos óbitos entre prisões com qualidade médica alta e baixa.\")\n",
        "else:\n",
        "    print(\"Não rejeitamos a hipótese nula: não há evidência significativa de diferença entre os grupos.\")"
      ],
      "metadata": {
        "id": "lmv7zV0GywbT"
      },
      "execution_count": null,
      "outputs": []
    },
    {
      "cell_type": "code",
      "source": [
        "def intervalo_confianca(dados, nivel=0.95):\n",
        "    n = len(dados)\n",
        "    media = np.mean(dados)\n",
        "    erro = stats.sem(dados)\n",
        "    margem = erro * stats.t.ppf((1 + nivel) / 2., n-1)\n",
        "    return media - margem, media + margem\n",
        "\n",
        "# Intervalos de confiança para os dois grupos\n",
        "ic_baixo = intervalo_confianca(grupo_baixo)\n",
        "ic_alto = intervalo_confianca(grupo_alto)\n",
        "\n",
        "print(f\"\\nIntervalo de confiança (95%) para a média de óbitos - Qualidade BAIXA: {ic_baixo}\")\n",
        "print(f\"Intervalo de confiança (95%) para a média de óbitos - Qualidade ALTA:  {ic_alto}\")"
      ],
      "metadata": {
        "id": "pW10hzzxywbT"
      },
      "execution_count": null,
      "outputs": []
    },
    {
      "cell_type": "markdown",
      "source": [
        "Foi analisada a relação entre a qualidade da saúde prisional e a quantidade de óbitos por causas naturais ou de saúde. Para isso, foi criado um score que combina infraestrutura médica e número de profissionais da saúde, normalizado pela população prisional de cada unidade.\n",
        "\n",
        "Aplicou-se o teste de spearman, considerando como hipótese nula a inexistência de associação. O resultado de correlação de -0,206, com valor-p ≈ 0, indicou correlação negativa estatisticamente significante entre os fatores.\n",
        "\n",
        "Com isso, observou-se que unidades prisionais com melhor estrutura e maior número de profissionais de saúde por preso tendem a registrar menos óbitos por causas naturais ou de saúde. No entanto, não é possível afirmar causalidade com certeza, pois outros fatores, como a idade média da população custodiada, não foram incluidos no estudo e podem influenciar os resultados."
      ],
      "metadata": {
        "id": "OBTMDcyG0UjL"
      }
    },
    {
      "cell_type": "markdown",
      "source": [
        "## Pergunta 3\n",
        "\n",
        "**Existe uma correlação entre a oferta de serviços de assistência social nas unidades prisionais com o percentual de presos que trabalham e/ou estudam?**"
      ],
      "metadata": {
        "id": "0iztr31rWWUa"
      }
    },
    {
      "cell_type": "markdown",
      "source": [
        "\n",
        "\n",
        "**Limpeza e estruturação dos dados**\n",
        "\n",
        "Aqui foram selecionadas as colunas de interessa para responder a pergunta\n",
        "\n"
      ],
      "metadata": {
        "id": "u7HkE9ekfvbt"
      }
    },
    {
      "cell_type": "code",
      "source": [
        "# Filtragem das colunas\n",
        "colunas_identificacao = [\n",
        "    'ID',\n",
        "    'Referência',\n",
        "]\n",
        "\n",
        "dados_filtrados3 = dados_filtrados[colunas_identificacao].copy()\n",
        "\n",
        "# Colunas sobre a população carcerária\n",
        "coluna_populacao_prisional = ['4.1 População prisional | Total']\n",
        "\n",
        "dados_filtrados3['Populacao_Prisional'] = dados_filtrados['4.1 População prisional | Total']\n",
        "\n",
        "total_presos_trabalham = [\n",
        "    '6.1 Quantidade de pessoas privadas de liberdade em programas de laborterapia | Trabalho externo Masculino',\n",
        "    '6.1 Quantidade de pessoas privadas de liberdade em programas de laborterapia | Trabalho externo Feminino',\n",
        "    '6.1 Quantidade de pessoas privadas de liberdade em programas de laborterapia | Trabalho interno Masculino',\n",
        "    '6.1 Quantidade de pessoas privadas de liberdade em programas de laborterapia | Trabalho interno Feminino'\n",
        "]\n",
        "\n",
        "total_presos_estudam = [\n",
        "    '6.3 Quantidade de pessoas privadas de liberdade em atividade educacional | Alfabetização | Total',\n",
        "    '6.3 Quantidade de pessoas privadas de liberdade em atividade educacional | Ensino Fundamental | Total',\n",
        "    '6.3 Quantidade de pessoas privadas de liberdade em atividade educacional | Ensino Médio | Total',\n",
        "    '6.3 Quantidade de pessoas privadas de liberdade em atividade educacional | Ensino Superior | Total',\n",
        "    '6.3 Quantidade de pessoas privadas de liberdade em atividade educacional | Curso Técnico (acima de 800 horas de aula) | Total',\n",
        "    '6.3 Quantidade de pessoas privadas de liberdade em atividade educacional | Curso de Formação Inicial e Continuada (Capacitação Profissional, acima de 160 horas de aula) | Total'\n",
        "]\n",
        "\n",
        "total_presos_trabalham_estudam = [\n",
        "    '6.4 Quantidade de pessoas trabalhando e estudando, simultaneamente | Pessoas que trabalham e estudam | Masculino',\n",
        "    '6.4 Quantidade de pessoas trabalhando e estudando, simultaneamente | Pessoas que trabalham e estudam | Feminino'\n",
        "]\n",
        "\n",
        "# Colunas sobre a infraestrutura dos presídios\n",
        "colunas_modulo_saude = [\n",
        "    '2.4 Módulo de saúde | Consultório médico | Quantidade',\n",
        "    '2.4 Módulo de saúde | Consultório odontológico | Quantidade',\n",
        "    '2.4 Módulo de saúde | Sala de coleta de material para laboratório | Quantidade',\n",
        "    '2.4 Módulo de saúde | Sala de curativos, suturas, vacinas e posto de enfermagem | Quantidade',\n",
        "    '2.4 Módulo de saúde | Cela de observação | Quantidade',\n",
        "    '2.4 Módulo de saúde | Cela de enfermaria com solário | Quantidade',\n",
        "    '2.4 Módulo de saúde | Sanitário para pacientes | Quantidade',\n",
        "    '2.4 Módulo de saúde | Sanitários para equipe de saúde | Quantidade',\n",
        "    '2.4 Módulo de saúde | Farmácia ou sala de estoque/ dispensação de medicamentos | Quantidade',\n",
        "    '2.4 Módulo de saúde | Central de material esterilizado/ expurgo | Quantidade',\n",
        "    '2.4 Módulo de saúde | Sala de lavagem e descontaminação | Quantidade',\n",
        "    '2.4 Módulo de saúde | Sala de esterilização | Quantidade',\n",
        "    '2.4 Módulo de saúde | Vestiário | Quantidade',\n",
        "    '2.4 Módulo de saúde | Depósito de material de limpeza - DML | Quantidade',\n",
        "    '2.4 Módulo de saúde | Sala de atendimento clínico multiprofissional | Quantidade',\n",
        "    '2.4 Módulo de saúde | Sala de procedimentos | Quantidade',\n",
        "    '2.4 Módulo de saúde | Sala de raio x | Quantidade',\n",
        "    '2.4 Módulo de saúde | Laboratório de diagnóstico | Quantidade',\n",
        "    '2.4 Módulo de saúde | Cela de espera | Quantidade',\n",
        "    '2.4 Módulo de saúde | Solário para pacientes | Quantidade',\n",
        "    '2.4 Módulo de saúde | Outro(s). Qual(is)? | Quantidade',\n",
        "]\n",
        "\n",
        "colunas_modulo_educacao = [\n",
        "    '2.5 Módulo de educação | Sala de aula | Quantidade de salas',\n",
        "    '2.5 Módulo de educação | Sala de informática | Quantidade de salas',\n",
        "    '2.5 Módulo de educação | Sala de encontros com a sociedade/ sala de reuniões | Quantidade de salas',\n",
        "    '2.5 Módulo de educação | Biblioteca | Quantidade de salas',\n",
        "    '2.5 Módulo de educação | Sala de professores | Quantidade de salas',\n",
        "    '2.5 Módulo de educação | Outro(s). Qual(is)? | Quantidade de salas',\n",
        "]\n",
        "\n",
        "colunas_modulo_oficinas = [\n",
        "    '2.5.1 Há local específico para biblioteca?',\n",
        "    '2.6 Módulo de oficinas | Sala de produção',\n",
        "    '2.6 Módulo de oficinas | Sala de controle/ supervisão',\n",
        "    '2.6 Módulo de oficinas | Sanitários',\n",
        "    '2.6 Módulo de oficinas | Estoque',\n",
        "    '2.6 Módulo de oficinas | Carga/ descarga',\n",
        "    '2.6 Módulo de oficinas | Artefatos de concreto',\n",
        "    '2.6 Módulo de oficinas | Blocos e tijolos',\n",
        "    '2.6 Módulo de oficinas | Padaria e panificação',\n",
        "    '2.6 Módulo de oficinas | Corte e costura industrial',\n",
        "    '2.6 Módulo de oficinas | Artesanato',\n",
        "    '2.6 Módulo de oficinas | Marcenaria',\n",
        "    '2.6 Módulo de oficinas | Serralheria',\n",
        "]\n",
        "\n",
        "colunas_interesse = colunas_identificacao + coluna_populacao_prisional + colunas_modulo_saude + colunas_modulo_oficinas + colunas_modulo_educacao + total_presos_trabalham + total_presos_estudam + total_presos_trabalham_estudam"
      ],
      "metadata": {
        "id": "4r2FhS3AfoI2"
      },
      "execution_count": null,
      "outputs": []
    },
    {
      "cell_type": "markdown",
      "source": [
        "As perguntas dos módulos 2.5.1 e 2.6 foram respondidas com 'Sim' ou 'Não' a fim de indicar a presença ou ausência das respectivas oficinas nas unidades prisionais.\n",
        "Como a intenção aqui era fazer uma análise quantitativa e somar a quantidade de módulos em cada unidade, as respostas nominais foram transformadas em númericas para que isso fosse possível ('Sim' = 1  e 'Não' = 0).\n",
        "\n",
        "Ter o valor = 1 significará, portanto, que existe pelo menos um módulo dessa oficina no presídio e esse valor será somado a quantidade total de módulos da respectiva unidade prisional."
      ],
      "metadata": {
        "id": "m3lz98upfqdd"
      }
    },
    {
      "cell_type": "code",
      "source": [
        "# Atualização dos dados\n",
        "dados_3 = dados_filtrados[colunas_interesse].replace({\n",
        "    np.nan: '0.0',\n",
        "    'Sim': '1.0',\n",
        "    'Não': '0.0'\n",
        "}, regex=True)\n",
        "\n",
        "# Renomeação da coluna 4.1\n",
        "dados_3 = dados_3.rename(columns={'4.1 População prisional | Total': 'Populacao_Prisional'})\n",
        "\n",
        "# Soma das colunas agrupadas em três módulos\n",
        "dados_filtrados3['Total_Modulo_Saude'] = dados_3[colunas_modulo_saude].astype(float).sum(axis=1)\n",
        "dados_filtrados3['Total_Modulo_Educacao'] = dados_3[colunas_modulo_educacao].astype(float).sum(axis=1)\n",
        "dados_filtrados3['Total_Modulo_Oficinas'] = dados_3[colunas_modulo_oficinas].astype(float).sum(axis=1)\n",
        "\n",
        "dados_filtrados3['Total_Presos_Empregados'] = dados_3[total_presos_trabalham].astype(float).sum(axis=1)\n",
        "dados_filtrados3['Total_Presos_Estudantes'] = dados_3[total_presos_estudam].astype(float).sum(axis=1)\n",
        "dados_filtrados3['Total_Presos_Empregados_Estudantes'] = dados_3[total_presos_trabalham_estudam].astype(float).sum(axis=1)\n",
        "\n",
        "# Cálculo da taxa ocupacional em cada presídio\n",
        "dados_filtrados3['Taxa_Ocupacao'] = ((dados_filtrados3['Total_Presos_Empregados'] + dados_filtrados3['Total_Presos_Estudantes'] + dados_filtrados3['Total_Presos_Empregados_Estudantes']) / dados_filtrados3['Populacao_Prisional'].astype(float)) * 100\n",
        "\n",
        "colunas_filtradas = ['ID',\n",
        "  'Referência',\n",
        "  'Total_Modulo_Saude',\n",
        "  'Total_Modulo_Educacao',\n",
        "  'Total_Modulo_Oficinas',\n",
        "  'Populacao_Prisional',\n",
        "  'Total_Presos_Empregados',\n",
        "  'Total_Presos_Estudantes',\n",
        "  'Total_Presos_Empregados_Estudantes',\n",
        "  'Taxa_Ocupacao']\n",
        "\n",
        "dados_filtrados3 = dados_filtrados3[colunas_filtradas]\n",
        "\n",
        "dados_filtrados3.head(10)"
      ],
      "metadata": {
        "id": "ytz14TVCfrrT"
      },
      "execution_count": null,
      "outputs": []
    },
    {
      "cell_type": "code",
      "source": [
        "print(len(dados_filtrados3[dados_filtrados3['Taxa_Ocupacao'] > 100]))\n"
      ],
      "metadata": {
        "id": "wpUsYPXTf5oY"
      },
      "execution_count": null,
      "outputs": []
    },
    {
      "cell_type": "markdown",
      "source": [
        "Nota-se, com o resultado acima, a presença de registros com valores de taxa de ocupação que superam a lotação máxima do presídio, o que é um forte indicativo de que há presídios com superlotação. Pensando por essa linha de raciocínio, foi decidido não tratar esses valores como outliers e preservá-los na análise.\n",
        "\n"
      ],
      "metadata": {
        "id": "2fwTUyfIf2BZ"
      }
    },
    {
      "cell_type": "markdown",
      "source": [
        "\n",
        "\n",
        "*   Estatísticas\n",
        "\n"
      ],
      "metadata": {
        "id": "YhwVhTRTgAQf"
      }
    },
    {
      "cell_type": "code",
      "source": [
        "dados_filtrados3.describe()"
      ],
      "metadata": {
        "id": "V4B-O1VDgCBo"
      },
      "execution_count": null,
      "outputs": []
    },
    {
      "cell_type": "markdown",
      "source": [
        "O gráfico abaixo apresenta a evolução da média os módulos de interesse ao longo dos semestres. Para isso, utilizou-se o método lineplot() da biblioteca Seaborn, que plota a média dos valores de cada categoria em função do tempo e inclui intervalos de confiança padronizados de 95%.\n",
        "\n"
      ],
      "metadata": {
        "id": "j2qocGgagGL6"
      }
    },
    {
      "cell_type": "code",
      "source": [
        "import matplotlib.pyplot as plt\n",
        "import seaborn as sns\n",
        "\n",
        "plt.figure(figsize=(10, 5))\n",
        "\n",
        "# Inverter os eixos\n",
        "dados_filtrados3 = dados_filtrados3.iloc[::-1].reset_index(drop=True)\n",
        "\n",
        "sns.lineplot(x=dados_filtrados3['Referência'], y=dados_filtrados3['Total_Modulo_Saude'], marker='o', label='Saúde')\n",
        "sns.lineplot(x=dados_filtrados3['Referência'], y=dados_filtrados3['Total_Modulo_Educacao'], marker='o', label='Educação')\n",
        "sns.lineplot(x=dados_filtrados3['Referência'], y=dados_filtrados3['Total_Modulo_Oficinas'], marker='o', label='Oficinas')\n",
        "\n",
        "plt.title('Média (Módulos) x Semestres (Referência)', fontsize=12)\n",
        "plt.xlabel('Semestres (Referência)', fontsize=12)\n",
        "plt.ylabel('Média (Módulos)', fontsize=12)\n",
        "\n",
        "plt.xticks(rotation=90, ha='center', fontsize=10)\n",
        "\n",
        "plt.legend(title='Módulos', fontsize=10, title_fontsize=10)\n",
        "plt.grid(True, linestyle='--', alpha=0.7)\n",
        "\n",
        "plt.show()"
      ],
      "metadata": {
        "id": "r73enDnLgIKP"
      },
      "execution_count": null,
      "outputs": []
    },
    {
      "cell_type": "markdown",
      "source": [
        "**Testes de hipóteses**"
      ],
      "metadata": {
        "id": "ldUcajnYzka1"
      }
    },
    {
      "cell_type": "markdown",
      "source": [
        "H₀ (hipótese nula): Não existe correlação entre a oferta de serviços de assistência social e o percentual de presos que trabalham/estudam.\n",
        "\n",
        "H₁ (hipótese alternativa): Existe correlação entre a oferta de serviços de assistência social e o percentual de presos que trabalham/estudam."
      ],
      "metadata": {
        "id": "cq_SqxabzogJ"
      }
    },
    {
      "cell_type": "code",
      "source": [
        "dados_percentuais = pd.DataFrame()\n",
        "\n",
        "# Calcular o percentual de atividade\n",
        "dados_percentuais['Percentual_Atividade'] = (\n",
        "    dados_filtrados3['Total_Presos_Empregados_Estudantes'] / dados_filtrados3['Populacao_Prisional']\n",
        ") * 100\n",
        "\n",
        "# Calcular a oferta de assistência social como média dos módulos\n",
        "dados_percentuais['Oferta_Assistencia_Social'] = dados_filtrados3[['Total_Modulo_Saude', 'Total_Modulo_Educacao', 'Total_Modulo_Oficinas']].mean(axis=1)\n",
        "\n",
        "# Verificar se há linhas totalmente nulas\n",
        "print(dados_percentuais[['Oferta_Assistencia_Social', 'Percentual_Atividade']].isnull().sum())\n"
      ],
      "metadata": {
        "id": "Nm5XpjA0zqrQ"
      },
      "execution_count": null,
      "outputs": []
    },
    {
      "cell_type": "code",
      "source": [
        "# Remoção de linhas totalmente nulas\n",
        "dados_limpos = dados_percentuais.dropna(subset=['Oferta_Assistencia_Social', 'Percentual_Atividade'])"
      ],
      "metadata": {
        "id": "imBbTE30ztJT"
      },
      "execution_count": null,
      "outputs": []
    },
    {
      "cell_type": "code",
      "source": [
        "dados_limpos[['Oferta_Assistencia_Social', 'Percentual_Atividade']].describe()\n"
      ],
      "metadata": {
        "id": "uZc4AhIszvyj"
      },
      "execution_count": null,
      "outputs": []
    },
    {
      "cell_type": "code",
      "source": [
        "from scipy.stats import spearmanr\n",
        "\n",
        "resultados_correlacao = []\n",
        "\n",
        "for _ in range(1000):\n",
        "    resultado_3 = dados_limpos.sample(frac=1, replace=True)\n",
        "    corr, p_val = spearmanr(resultado_3['Oferta_Assistencia_Social'], resultado_3['Percentual_Atividade'])\n",
        "    resultados_correlacao.append(corr)\n",
        "\n",
        "# Intervalo de confiança de 95%\n",
        "limite_inferior = np.percentile(resultados_correlacao, 2.5)\n",
        "limite_superior = np.percentile(resultados_correlacao, 97.5)\n",
        "\n",
        "print(\"Coeficiente de correlação de Pearson:\", corr)\n",
        "print(f\"Intervalo de confiança 95%: [{limite_inferior:.3f}, {limite_superior:.3f}]\")\n",
        "print(\"Valor-p:\", p_val)\n",
        "\n",
        "if p_val < 0.05:\n",
        "    print(\"Rejeitamos H0: há correlação significativa.\")\n",
        "else:\n",
        "    print(\"Não rejeitamos H0: não há evidência de correlação significativa.\")"
      ],
      "metadata": {
        "id": "tsJ17CUozxup"
      },
      "execution_count": null,
      "outputs": []
    },
    {
      "cell_type": "markdown",
      "source": [
        "Com finalidade de investir uma correlação existente entre a oferta de serviços de assistência social nas unidades prisionais e a proporção de detentos envolvidos em atividades de trabalho e/ou estudo, criou-se variável que representa a média da disponibilidade dos módulos ofertados em cada unidade prisional e calculou-se o percentual de presos participantes dessas atividades em relação à população total de cada unidade.\n",
        "\n",
        "Para avaliar essa relação, utilizou-se Spearman, tendo como hipótese nula a ausência de associação entre as variáveis analisadas.\n",
        "\n",
        "O teste apontou uma correlação positiva de, aproximadamente, 0,23, com valor-p muito próximo de zero. Apesar de fraca, há uma relação estatisticamente significativa entre a oferta de serviços e a participação dos presos em atividades laborais e/ou educacionais.\n",
        "\n",
        "Os dados sugerem, portanto, que unidades com maior estrutura de serviços assistenciais tendem a apresentar proporções mais altas de presos trabalhando ou estudando."
      ],
      "metadata": {
        "id": "kaKGlmMx0Yv8"
      }
    },
    {
      "cell_type": "markdown",
      "source": [
        "## Pergunta 4\n",
        "**Existe uma correlação entre o tipo de crime pelo qual os detentos foram condenados e a incidência de óbitos prisionais de natureza criminal?**\n"
      ],
      "metadata": {
        "id": "lCQPFeA9WZH-"
      }
    },
    {
      "cell_type": "markdown",
      "source": [
        "**Limpeza e estruturação dos dados**  \n",
        "Inicialmente, selecionamos as variáveis relevantes: número de detentos por tipo penal, total de óbitos criminais por unidade e população prisional total. Para garantir a integridade, espaços em branco foram convertidos para valores ausentes (NaN)."
      ],
      "metadata": {
        "id": "u8zIucCEzYFw"
      }
    },
    {
      "cell_type": "code",
      "source": [
        "coluna_populacao_prisional = ['4.1 População prisional | Total']\n",
        "\n",
        "# Coluna com a variável-alvo: óbitos criminais\n",
        "mortalidade_criminal = [\n",
        "    '6.8 Mortalidade no Sistema Prisional (total do período) | Óbitos criminais | Total'\n",
        "]\n",
        "\n",
        "# Palavra-chave para identificar colunas com incidência de crimes\n",
        "crimes = [\n",
        "    '5.14 Quantidade de incidências por tipo penal'\n",
        "]\n",
        "\n",
        "# Seleciona apenas as colunas de crimes totais por tipo penal\n",
        "colunas_crimes = [\n",
        "    col for col in dados_filtrados.columns\n",
        "    if '5.14' in col and 'Total' in col and any(tipo in col for tipo in crimes)\n",
        "]\n",
        "\n",
        "# Seleciona apenas as colunas relevantes: crimes, óbitos e população prisional\n",
        "colunas_selecionadas = colunas_crimes + mortalidade_criminal + coluna_populacao_prisional\n",
        "dados_filtrados4 = dados_filtrados[colunas_selecionadas]\n",
        "\n",
        "# Substitui espaços em branco por NaN para normalizar os dados ausentes\n",
        "dados_filtrados4 = dados_filtrados4.replace(r'^\\s*$', np.nan, regex=True)"
      ],
      "metadata": {
        "id": "hHIchX5BrWET"
      },
      "execution_count": null,
      "outputs": []
    },
    {
      "cell_type": "code",
      "source": [
        "# Renomeação das colunas\n",
        "dados_filtrados4_renomeados = dados_filtrados4.copy()\n",
        "dados_filtrados4_renomeados.columns = [\n",
        "    'Populacao_Prisional',\n",
        "    'Pessoa_Homicidio_Simples',\n",
        "    'Pessoa_Homicidio_Culposo',\n",
        "    'Pessoa_Homicidio_Qualificado',\n",
        "    'Pessoa_Aborto',\n",
        "    'Pessoa_Lesao_Corporal',\n",
        "    'Pessoa_Violencia_Domestica',\n",
        "    'Pessoa_Sequestro_Carcere',\n",
        "    'Pessoa_Outros_122_154A',\n",
        "\n",
        "    'Patrimonio_Furto_Simples',\n",
        "    'Patrimonio_Furto_Qualificado',\n",
        "    'Patrimonio_Roubo_Simples',\n",
        "    'Patrimonio_Roubo_Qualificado',\n",
        "    'Patrimonio_Latrocinio',\n",
        "    'Patrimonio_Extorsao',\n",
        "    'Patrimonio_Extorsao_Sequestro',\n",
        "    'Patrimonio_Apropriacao_Indebita',\n",
        "    'Patrimonio_Apropriacao_Previdenciaria',\n",
        "    'Patrimonio_Estelionato',\n",
        "    'Patrimonio_Receptacao',\n",
        "    'Patrimonio_Receptacao_Qualificada',\n",
        "    'Patrimonio_Outros_156_179',\n",
        "\n",
        "    'Sexual_Estupro',\n",
        "    'Sexual_Atentado_Violento_Pudor',\n",
        "    'Sexual_Estupro_Vulneravel',\n",
        "    'Sexual_Corrupcao_Menores',\n",
        "    'Sexual_Trafico_Internacional',\n",
        "    'Sexual_Trafico_Interno',\n",
        "    'Sexual_Outros',\n",
        "\n",
        "    'PazPublica_Quadrilha_Bando',\n",
        "\n",
        "    'FePublica_Moeda_Falsa',\n",
        "    'FePublica_Falsificacao_Documentos',\n",
        "    'FePublica_Falsidade_Ideologica',\n",
        "    'FePublica_Uso_Documento_Falso',\n",
        "\n",
        "    'AdmPublica_Peculato',\n",
        "    'AdmPublica_Concussao_Exacao',\n",
        "    'AdmPublica_Corrupcao_Passiva',\n",
        "\n",
        "    'AdmPublicaParticular_Corrupcao_Ativa',\n",
        "    'AdmPublicaParticular_Contrabando_Descaminho',\n",
        "\n",
        "    'Drogas_Trafico',\n",
        "    'Drogas_Associacao_Trafico',\n",
        "    'Drogas_Trafico_Internacional',\n",
        "\n",
        "    'Armas_Porte_Ilegal_Permitido',\n",
        "    'Armas_Disparo',\n",
        "    'Armas_Porte_Ilegal_Restrito',\n",
        "    'Armas_Comercio_Ilegal',\n",
        "    'Armas_Trafico_Internacional',\n",
        "\n",
        "    'Transito_Homicidio_Culposo',\n",
        "\n",
        "    'LegEspecifica_Outros_303_312',\n",
        "    'LegEspecifica_ECA_Lei_8.069',\n",
        "    'LegEspecifica_Genocidio',\n",
        "    'LegEspecifica_Tortura',\n",
        "    'LegEspecifica_MeioAmbiente',\n",
        "    'LegEspecifica_ECA_Lei_869',\n",
        "\n",
        "    'Obitos_Criminais_Total'\n",
        "]"
      ],
      "metadata": {
        "id": "chkJyhF03rGe"
      },
      "execution_count": null,
      "outputs": []
    },
    {
      "cell_type": "code",
      "source": [
        "dados_filtrados4_renomeados.head(15)"
      ],
      "metadata": {
        "id": "kuLcl0PpI-j_",
        "collapsed": true
      },
      "execution_count": null,
      "outputs": []
    },
    {
      "cell_type": "code",
      "source": [
        "# Calcula a porcentagem de valores NaN em cada coluna\n",
        "nan_percent = dados_filtrados4_renomeados.isna().mean()\n",
        "\n",
        "# Exibe as colunas ordenadas pela porcentagem de NaNs de forma descrescente\n",
        "nan_percent.sort_values(ascending=False)"
      ],
      "metadata": {
        "id": "1ANy_x6N1qlO",
        "collapsed": true
      },
      "execution_count": null,
      "outputs": []
    },
    {
      "cell_type": "code",
      "source": [
        "# Mantém apenas colunas com até 70% de NaN\n",
        "colunas_validas = nan_percent[nan_percent <= 0.7].index\n",
        "dados_filtrados4_renomeados = dados_filtrados4_renomeados[colunas_validas]\n",
        "\n",
        "# Atualiza a lista de colunas de crimes com as que permaneceram\n",
        "colunas_crimes = [col for col in dados_filtrados4_renomeados.columns if (col != 'Obitos_Criminais_Total' and col != 'Populacao_Prisional')]\n",
        "\n",
        "# Atualiza a lista com a coluna de óbitos após a renomeação\n",
        "mortalidade_criminal = ['Obitos_Criminais_Total']\n"
      ],
      "metadata": {
        "id": "8JBPgsEt138a"
      },
      "execution_count": null,
      "outputs": []
    },
    {
      "cell_type": "code",
      "source": [
        "print(dados_filtrados4_renomeados.shape)\n",
        "print(\"Qtd de linhas completamente nulas:\", (dados_filtrados4_renomeados.isna().sum(axis=1) == 46).sum())"
      ],
      "metadata": {
        "id": "XcQYwzBg744a"
      },
      "execution_count": null,
      "outputs": []
    },
    {
      "cell_type": "code",
      "source": [
        "# Remove linhas completamente nulas (com NaN)\n",
        "dados_filtrados4_renomeados = dados_filtrados4_renomeados.dropna(how='all')\n",
        "\n",
        "# Remove linhas onde todos os crimes são NaN\n",
        "dados_filtrados4_renomeados = dados_filtrados4_renomeados.dropna(\n",
        "    subset=colunas_crimes, how='all'\n",
        ")\n",
        "\n",
        "dados_filtrados4_renomeados.shape"
      ],
      "metadata": {
        "id": "q6yed-qpGtid"
      },
      "execution_count": null,
      "outputs": []
    },
    {
      "cell_type": "markdown",
      "source": [
        "As variáveis relacionadas ao tipo de crime são discretas e representam o número de registros por categoria em cada unidade prisional. Como que a presença de valores ausentes sugere a ausência do crime em questão, devido há alta quantidade de dados NaN em cada coluna utilizada,  optamos por preencher esses valores com zero para evitar distorções estatísticas."
      ],
      "metadata": {
        "id": "nfNwOu38ysNR"
      }
    },
    {
      "cell_type": "code",
      "source": [
        "# Substitui NaNs restantes por 0.0\n",
        "dados_filtrados4_renomeados = dados_filtrados4_renomeados.fillna(0.0)"
      ],
      "metadata": {
        "id": "5CsrOWjMHBSI"
      },
      "execution_count": null,
      "outputs": []
    },
    {
      "cell_type": "code",
      "source": [
        "# Mantém apenas unidades com população prisional > 0 (evita divisão por zero)\n",
        "dados_filtrados4_renomeados = dados_filtrados4_renomeados[dados_filtrados4_renomeados['Populacao_Prisional'] > 0]\n",
        "\n",
        "# Cria colunas com proporção de cada crime por preso\n",
        "for col in colunas_crimes:\n",
        "    dados_filtrados4_renomeados[f'{col}_por_preso'] = (\n",
        "        dados_filtrados4_renomeados[col] / dados_filtrados4_renomeados['Populacao_Prisional']\n",
        "    )\n",
        "\n",
        "# Cria a coluna com a proporção de óbitos criminais por preso\n",
        "dados_filtrados4_renomeados['Obitos_Criminais_Total_por_preso'] = (\n",
        "    dados_filtrados4_renomeados['Obitos_Criminais_Total'] / dados_filtrados4_renomeados['Populacao_Prisional']\n",
        ")"
      ],
      "metadata": {
        "id": "GcX9qLUZTUbx"
      },
      "execution_count": null,
      "outputs": []
    },
    {
      "cell_type": "markdown",
      "source": [
        "Para fazer a análise por grupo de crimes em vez de cada tipo penal isoladamente, é necessário somar os valores de cada grupo e criar novas colunas com esses totais proporcionais."
      ],
      "metadata": {
        "id": "urxFKYPgm6hf"
      }
    },
    {
      "cell_type": "code",
      "source": [
        "# Grupos de crimes\n",
        "grupos_crimes = {\n",
        "    'Pessoa': [\n",
        "        'Pessoa_Homicidio_Simples', 'Pessoa_Homicidio_Culposo', 'Pessoa_Homicidio_Qualificado',\n",
        "        'Pessoa_Aborto', 'Pessoa_Lesao_Corporal', 'Pessoa_Violencia_Domestica',\n",
        "        'Pessoa_Sequestro_Carcere', 'Pessoa_Outros_122_154A'\n",
        "    ],\n",
        "    'Patrimonio': [\n",
        "        'Patrimonio_Furto_Simples', 'Patrimonio_Furto_Qualificado', 'Patrimonio_Roubo_Simples',\n",
        "        'Patrimonio_Roubo_Qualificado', 'Patrimonio_Latrocinio', 'Patrimonio_Extorsao',\n",
        "        'Patrimonio_Extorsao_Sequestro', 'Patrimonio_Apropriacao_Indebita',\n",
        "        'Patrimonio_Apropriacao_Previdenciaria', 'Patrimonio_Estelionato',\n",
        "        'Patrimonio_Receptacao', 'Patrimonio_Receptacao_Qualificada', 'Patrimonio_Outros_156_179'\n",
        "    ],\n",
        "    'Sexual': [\n",
        "        'Sexual_Estupro', 'Sexual_Atentado_Violento_Pudor', 'Sexual_Estupro_Vulneravel',\n",
        "        'Sexual_Corrupcao_Menores', 'Sexual_Trafico_Internacional',\n",
        "        'Sexual_Trafico_Interno', 'Sexual_Outros'\n",
        "    ],\n",
        "    'PazPublica': [\n",
        "        'PazPublica_Quadrilha_Bando'\n",
        "    ],\n",
        "    'FePublica': [\n",
        "        'FePublica_Moeda_Falsa',\n",
        "        'FePublica_Falsificacao_Documentos',\n",
        "        'FePublica_Falsidade_Ideologica',\n",
        "        'FePublica_Uso_Documento_Falso'\n",
        "    ],\n",
        "    'AdmPublica': [\n",
        "        'AdmPublica_Peculato',\n",
        "        'AdmPublica_Concussao_Exacao',\n",
        "        'AdmPublica_Corrupcao_Passiva'\n",
        "    ],\n",
        "    'AdmPublicaParticular': [\n",
        "        'Particular_Corrupcao_Ativa',\n",
        "        'Particular_Contrabando_Descaminho'\n",
        "    ],\n",
        "    'Drogas': [\n",
        "        'Drogas_Trafico',\n",
        "        'Drogas_Associacao_Trafico',\n",
        "        'Drogas_Trafico_Internacional'\n",
        "    ],\n",
        "    'Armas': [\n",
        "        'Armas_Porte_Ilegal_Permitido',\n",
        "        'Armas_Disparo',\n",
        "        'Armas_Porte_Ilegal_Restrito',\n",
        "        'Armas_Comercio_Ilegal',\n",
        "        'Armas_Trafico_Internacional'\n",
        "    ],\n",
        "    'Transito': [\n",
        "        'Transito_Homicidio_Culposo'\n",
        "    ],\n",
        "    'LegEspecifica/Outros': [\n",
        "        'LegEspecifica_Outros_303_312',\n",
        "        'LegEspecifica_ECA_Lei_8.069',\n",
        "        'LegEspecifica_Genocidio',\n",
        "        'LegEspecifica_Tortura',\n",
        "        'LegEspecifica_MeioAmbiente',\n",
        "        'LegEspecifica_ECA_Lei_869'\n",
        "    ]\n",
        "}\n",
        "\n",
        "# Criar colunas agregadas por grupo (soma proporcional por preso)\n",
        "for grupo, colunas in grupos_crimes.items():\n",
        "    colunas_proporcionais = [col + '_por_preso' for col in colunas if col + '_por_preso' in dados_filtrados4_renomeados.columns]\n",
        "    dados_filtrados4_renomeados[grupo + '_Total_por_preso'] = dados_filtrados4_renomeados[colunas_proporcionais].sum(axis=1)\n"
      ],
      "metadata": {
        "id": "FFC3VR2WncXz"
      },
      "execution_count": null,
      "outputs": []
    },
    {
      "cell_type": "markdown",
      "source": [
        "**Distribuição dos grupos penais proporcionais (por preso)**   \n",
        "Para entender a distribuição global dos grupos penais no sistema prisional, utilizamos um treemap, que representa a composição proporcional acumulada por preso de cada grupo de crime. Cada retângulo é dimensionado de acordo com a soma das proporções de um grupo em todos os presídios.\n",
        "Essa visualização permite identificar quais grupos têm maior peso no conjunto, possibilitando uma leitura comparativa entre eles."
      ],
      "metadata": {
        "id": "OHrbp673RnnZ"
      }
    },
    {
      "cell_type": "code",
      "source": [
        "# Calcular o total acumulado por grupo (somando proporções de todos os presídios)\n",
        "soma_grupos = {\n",
        "    grupo: dados_filtrados4_renomeados[grupo + '_Total_por_preso'].sum()\n",
        "    for grupo in grupos_crimes.keys()\n",
        "    if grupo + '_Total_por_preso' in dados_filtrados4_renomeados.columns\n",
        "}\n",
        "\n",
        "# Ordenar por valor (para deixar a visualização mais intuitiva)\n",
        "soma_grupos_ordenado = dict(sorted(soma_grupos.items(), key=lambda item: item[1], reverse=True))\n",
        "\n",
        "# Dados para o gráfico\n",
        "labels = [f\"{k}\\n({v:.2f})\" for k, v in soma_grupos_ordenado.items()]\n",
        "sizes = list(soma_grupos_ordenado.values())\n",
        "\n",
        "# Normalizar os valores para 0–1 (por que?)\n",
        "norm = plt.Normalize(min(sizes), max(sizes))\n",
        "\n",
        "# Por que esse colormap foi escolhido?\n",
        "cmap = plt.cm.Blues\n",
        "\n",
        "# Aplicar o colormap aos valores\n",
        "colors = [cmap(norm(value)) for value in sizes]\n",
        "\n",
        "plt.figure(figsize=(40, 11))\n",
        "squarify.plot(\n",
        "    sizes=sizes,\n",
        "    label=labels,\n",
        "    color=colors,\n",
        "    alpha=0.9,\n",
        "    text_kwargs={'fontsize': 11}\n",
        "    )\n",
        "plt.title(\"Composição total por grupo de crime (proporção acumulada por preso)\", fontsize=14)\n",
        "plt.axis('off')\n",
        "plt.tight_layout()\n",
        "plt.show()"
      ],
      "metadata": {
        "id": "bFH_Zi6JLnPp",
        "collapsed": true
      },
      "execution_count": null,
      "outputs": []
    },
    {
      "cell_type": "markdown",
      "source": [
        "**Distribuição dos óbitos criminais proporcionais à população prisional**"
      ],
      "metadata": {
        "id": "UXLTvVcpSB5g"
      }
    },
    {
      "cell_type": "code",
      "source": [
        "# Boxplot dos óbitos criminais por preso\n",
        "plt.figure(figsize=(8, 2))\n",
        "sns.boxplot(\n",
        "    data=dados_filtrados4_renomeados,\n",
        "    x='Obitos_Criminais_Total_por_preso',\n",
        "    color='salmon'\n",
        ")\n",
        "media_obitos = dados_filtrados4_renomeados['Obitos_Criminais_Total_por_preso'].mean()\n",
        "plt.axvline(media_obitos, color='darkred', linestyle='--', label=f'Média: {media_obitos:.4f}')\n",
        "plt.title('Distribuição de óbitos criminais proporcionais à população prisional')\n",
        "plt.xlabel('Óbitos criminais por preso')\n",
        "plt.legend()\n",
        "plt.tight_layout()\n",
        "plt.show()"
      ],
      "metadata": {
        "id": "mbmvQYLTL4lJ",
        "collapsed": true
      },
      "execution_count": null,
      "outputs": []
    },
    {
      "cell_type": "code",
      "source": [
        "# Histograma com KDE para óbitos por preso\n",
        "plt.figure(figsize=(10, 6))\n",
        "sns.histplot(\n",
        "    data=dados_filtrados4_renomeados,\n",
        "    x='Obitos_Criminais_Total_por_preso',\n",
        "    kde=True,\n",
        "    color='indianred',\n",
        "    bins=50\n",
        ")\n",
        "plt.axvline(media_obitos, color='darkred', linestyle='--', label=f'Média: {media_obitos:.4f}')\n",
        "plt.title('Distribuição de óbitos criminais proporcionais à população prisional')\n",
        "plt.xlabel('Óbitos criminais por preso')\n",
        "plt.ylabel('Frequência')\n",
        "plt.legend()\n",
        "plt.tight_layout()\n",
        "plt.show()"
      ],
      "metadata": {
        "id": "KvZbFmotYe5D",
        "collapsed": true
      },
      "execution_count": null,
      "outputs": []
    },
    {
      "cell_type": "markdown",
      "source": [
        "Como mostram as figuras acima, a maior parte das observações está concentrada em valores baixos, enquanto há uma cauda longa à direita, o que indica a presença de outliers. Logo a distribuição é assimetricamente positiva."
      ],
      "metadata": {
        "id": "TwEEUBIt27o0"
      }
    },
    {
      "cell_type": "markdown",
      "source": [
        "- Correlações entre crimes e óbitos criminais"
      ],
      "metadata": {
        "id": "GntygE-aU-w2"
      }
    },
    {
      "cell_type": "markdown",
      "source": [
        "Para investigar a relação entre os tipos de crime pelos quais os detentos foram condenados e a incidência de óbitos de natureza criminal, optou-se pelo uso do coeficiente de Spearman dado que as variáveis em análise (proporções de presos por crime e óbitos criminais por preso) não seguem distribuição normal."
      ],
      "metadata": {
        "id": "IGeCb6qGbb6O"
      }
    },
    {
      "cell_type": "code",
      "source": [
        "# Lista de colunas com dados proporcionais de crimes, removendo a coluna relacionada ao óbito criminais por preso\n",
        "colunas_proporcionais = [\n",
        "    col for col in colunas_proporcionais\n",
        "    if col != 'Obitos_Criminais_Total_por_preso'\n",
        "]\n",
        "\n",
        "# Calcula correlações de Spearman\n",
        "spearman_corr = dados_filtrados4_renomeados[colunas_proporcionais + ['Obitos_Criminais_Total_por_preso']].corr(method='spearman')\n",
        "\n",
        "# Seleciona apenas a coluna de correlação com os óbitos criminaise\n",
        "spearman_obitos = spearman_corr.loc[colunas_proporcionais, 'Obitos_Criminais_Total_por_preso'].sort_values(ascending=False)\n",
        "\n",
        "plt.figure(figsize=(10, 12))\n",
        "spearman_obitos.plot(kind='barh', color='lightseagreen', edgecolor='black')\n",
        "plt.xlabel('Correlação de Spearman')\n",
        "plt.title('Correlação de Spearman entre tipos penais e óbitos criminais')\n",
        "plt.gca().invert_yaxis()\n",
        "plt.tight_layout()\n",
        "plt.show()"
      ],
      "metadata": {
        "id": "RTEZViTbvDTx",
        "collapsed": true
      },
      "execution_count": null,
      "outputs": []
    },
    {
      "cell_type": "code",
      "source": [
        "plt.figure(figsize=(6, 12))\n",
        "\n",
        "# Criação de um heatmap para representar as correlações de Spearman\n",
        "sns.heatmap(spearman_obitos.to_frame(),\n",
        "            cmap='coolwarm',\n",
        "            annot=True,\n",
        "            fmt=\".2f\",\n",
        "            linewidths=0.5,\n",
        "            cbar=True,\n",
        "            xticklabels=['Correlação'])\n",
        "\n",
        "plt.title('Correlação de Spearman com óbitos criminais')\n",
        "plt.tight_layout()\n",
        "plt.show()"
      ],
      "metadata": {
        "id": "Dvac1zrlZLV1",
        "collapsed": true
      },
      "execution_count": null,
      "outputs": []
    },
    {
      "cell_type": "markdown",
      "source": [
        "A análise indicou que certos crimes apresentam associação mais forte com a ocorrência de óbitos criminais no sistema prisional."
      ],
      "metadata": {
        "id": "10SsYtiU6TeY"
      }
    },
    {
      "cell_type": "markdown",
      "source": [
        "**Testes de hipóteses**"
      ],
      "metadata": {
        "id": "cJpFuK1x0AbI"
      }
    },
    {
      "cell_type": "markdown",
      "source": [
        "Para cada tipo de crime C, testamos a seguinte hipótese:\n",
        "- Hipótese nula (H0): Não existe correlação entre a proporção de presos por crime C e a proporção de óbitos criminais. H0: p = 0\n",
        "- Hipótese alternativa (H1): Existe correlação entre a proporção de presos por crime C e a proporção de óbitos criminais. H1: p != 0\n"
      ],
      "metadata": {
        "id": "J0dp-4lzWmw1"
      }
    },
    {
      "cell_type": "markdown",
      "source": [
        "Como a distribuição dos dados não é normal, optou-se por usar coeficiente de correlação de Spearman para os testes de hipótese. Utilizou-se um nível de significância α=0,05."
      ],
      "metadata": {
        "id": "dZqfLa-N-SzJ"
      }
    },
    {
      "cell_type": "code",
      "source": [
        "# Calcula intervalo de confiança para a correlação de Spearman usando bootstrapping\n",
        "def intervalo_confianca_spearman_bootstrap(vetor_crime, vetor_obitos, num_reamostragens=1000, nivel_significancia=0.05, semente=None):\n",
        "    gerador_aleatorio = np.random.default_rng(seed=semente)\n",
        "    lista_rho = []\n",
        "    tamanho_amostra = len(vetor_crime)\n",
        "\n",
        "    # Reamostra os dados com reposição e calcula a correlação para cada amostra\n",
        "    for _ in range(num_reamostragens):\n",
        "        indices_reamostrados = gerador_aleatorio.choice(tamanho_amostra, size=tamanho_amostra, replace=True)\n",
        "        rho, _ = stats.spearmanr(vetor_crime[indices_reamostrados], vetor_obitos[indices_reamostrados])\n",
        "        lista_rho.append(rho)\n",
        "\n",
        "    # Calcula os limites inferior e superior do intervalo de confiança\n",
        "    limite_inferior = np.percentile(lista_rho, 100 * (nivel_significancia / 2))\n",
        "    limite_superior = np.percentile(lista_rho, 100 * (1 - nivel_significancia / 2))\n",
        "    return limite_inferior, limite_superior\n",
        "\n",
        "resultados_correlacao = []\n",
        "\n",
        "# Para cada tipo de crime, calcula a correlação de Spearman e o intervalo de confiança\n",
        "for coluna_crime in colunas_proporcionais:\n",
        "    vetor_proporcao_crime = dados_filtrados4_renomeados[coluna_crime].values\n",
        "    vetor_obitos_por_preso = dados_filtrados4_renomeados['Obitos_Criminais_Total_por_preso'].values\n",
        "\n",
        "    # Correlação e valor-p\n",
        "    coef_spearman, valor_p = stats.spearmanr(vetor_proporcao_crime, vetor_obitos_por_preso)\n",
        "\n",
        "    # Intervalo de confiança por bootstrapping\n",
        "    limite_inferior, limite_superior = intervalo_confianca_spearman_bootstrap(\n",
        "        vetor_proporcao_crime,\n",
        "        vetor_obitos_por_preso,\n",
        "        num_reamostragens=1000,\n",
        "        nivel_significancia=0.05\n",
        "    )\n",
        "\n",
        "    decisao_hipotese = 'Rejeitamos H0' if valor_p < 0.05 else 'Não rejeitamos H0'\n",
        "\n",
        "    resultados_correlacao.append({\n",
        "        'Tipo de Crime': coluna_crime,\n",
        "        'Correlação de Spearman (ρ)': coef_spearman,\n",
        "        'Valor-p': valor_p,\n",
        "        'IC Inferior (95%)': limite_inferior,\n",
        "        'IC Superior (95%)': limite_superior,\n",
        "        'Decisão': decisao_hipotese\n",
        "    })\n",
        "\n",
        "# Converte os resultados em DataFrame e ordena do maior para o menor coeficiente de correlação\n",
        "df_resultados_correlacao = pd.DataFrame(resultados_correlacao).sort_values(\n",
        "    by='Correlação de Spearman (ρ)', ascending=False\n",
        ")\n",
        "\n",
        "print(df_resultados_correlacao)"
      ],
      "metadata": {
        "id": "ifs25L7a7PNy",
        "collapsed": true
      },
      "execution_count": null,
      "outputs": []
    },
    {
      "cell_type": "markdown",
      "source": [
        "Para investigar se existe uma correlação entre o tipo de crime e a incidência de óbitos prisionais criminais foram analisados os dados relacionados e aplicados testes de hipótese com o coeficiente de correlação de Spearman, juntamente com o cálculo de intervalos de confiança por bootstrapping. Os testes foram realizados individualmente para cada categoria de crime, considerando como hipótese nula a ausência de correlação entre a proporção de presos por crime e a taxa de óbitos criminais, e como hipótese alternativa a existência de uma correlação significativa.\n",
        "\n",
        "Em grande parte dos crimes analisados, os valores de p encontrados foram menores que o nível de significância utilizado (α = 0,05), o que permitiu rejeitar a hipótese nula. Isso indica a presença de uma associação estatística entre o tipo de crime e a ocorrência de mortes por causas criminais no sistema prisional. Crimes como contrabando/descaminho, roubo simples e furto simples apresentaram coeficientes de correlação (rho) acima de 0,59, sugerindo que os detentos condenados por esses delitos podem estar mais expostos a situações de violência ou vulnerabilidade nas unidades prisionais. Por outro lado, em crimes como comércio ilegal de armas e homicídio qualificado não foi encontrada evidência estatística suficiente para afirmar a existência de correlação, já que os seus valores de p foram maiores do que o nível de significância adotado.\n",
        "\n",
        "É importante destacar que a correlação observada não implica causalidade. As associações observadas podem ser influenciadas por outros fatores não incluídos na análise, portanto, não é possível afirmar que unidades prisionais com maior proporção de detentos de determinados crimes terão uma maior taxa de óbitos criminais. Os resultados apontam apenas para a existência de indícios de associação, os quais podem orientar investigações mais profundas no futuro."
      ],
      "metadata": {
        "id": "oDN9gznp0dfG"
      }
    }
  ]
}